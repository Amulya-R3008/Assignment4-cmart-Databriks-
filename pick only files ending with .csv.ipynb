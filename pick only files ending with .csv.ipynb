{
 "cells": [
  {
   "cell_type": "code",
   "execution_count": 1,
   "id": "fa3013be-15e2-489f-b376-fff8a6d4cdb4",
   "metadata": {},
   "outputs": [
    {
     "name": "stdout",
     "output_type": "stream",
     "text": [
      "['data.csv', 'sales.csv']\n"
     ]
    }
   ],
   "source": [
    "filenames = [\"data.csv\", \"report.pdf\", \"image.png\", \"sales.csv\", \"notes.txt\"]\n",
    "\n",
    "csv_files = []\n",
    "for f in filenames:\n",
    "    if f.endswith(\".csv\"):\n",
    "        csv_files.append(f)\n",
    "\n",
    "print(csv_files)"
   ]
  },
  {
   "cell_type": "code",
   "execution_count": null,
   "id": "16b52a96-1740-45db-81fd-3d76474f94ff",
   "metadata": {},
   "outputs": [],
   "source": []
  }
 ],
 "metadata": {
  "kernelspec": {
   "display_name": "Python 3 (ipykernel)",
   "language": "python",
   "name": "python3"
  },
  "language_info": {
   "codemirror_mode": {
    "name": "ipython",
    "version": 3
   },
   "file_extension": ".py",
   "mimetype": "text/x-python",
   "name": "python",
   "nbconvert_exporter": "python",
   "pygments_lexer": "ipython3",
   "version": "3.13.3"
  }
 },
 "nbformat": 4,
 "nbformat_minor": 5
}
