{
 "cells": [
  {
   "cell_type": "code",
   "execution_count": 0,
   "metadata": {
    "application/vnd.databricks.v1+cell": {
     "cellMetadata": {
      "byteLimit": 10485760,
      "rowLimit": 1000
     },
     "inputWidgets": {},
     "nuid": "24de47e6-3383-4107-b41b-b8c39f5c41f9",
     "showTitle": false,
     "tableResultSettingsMap": {},
     "title": ""
    }
   },
   "outputs": [],
   "source": [
    "-- CREATE TABLE student (\n",
    "--     student_id INT PRIMARY KEY,\n",
    "--     name VARCHAR(50),\n",
    "--     age INT,\n",
    "--     gender CHAR(1),\n",
    "--     grade VARCHAR(10)\n",
    "-- );\n",
    "\n",
    "INSERT INTO student (student_id, name, age, gender, grade) VALUES\n",
    "(1, 'Rahul Mehta', 16, 'M', '10th'),\n",
    "(2, 'Sneha Kapoor', 15, 'F', '9th'),\n",
    "(3, 'Arjun Reddy', 17, 'M', '11th'),\n",
    "(4, 'Priya Nair', 16, 'F', '10th'),\n",
    "(5, 'Kiran Das', 18, 'M', '12th');\n",
    "\n"
   ]
  }
 ],
 "metadata": {
  "application/vnd.databricks.v1+notebook": {
   "computePreferences": null,
   "dashboards": [],
   "environmentMetadata": null,
   "inputWidgetPreferences": null,
   "language": "sql",
   "notebookMetadata": {
    "pythonIndentUnit": 4,
    "sqlQueryOptions": {
     "applyAutoLimit": true,
     "catalog": "workspace",
     "schema": "default"
    }
   },
   "notebookName": "Student SQL Queries.dbquery.ipynb",
   "widgets": {}
  },
  "language_info": {
   "name": "sql"
  }
 },
 "nbformat": 4,
 "nbformat_minor": 0
}
