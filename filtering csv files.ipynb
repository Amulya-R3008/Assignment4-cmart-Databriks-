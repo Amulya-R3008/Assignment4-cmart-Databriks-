{
 "cells": [
  {
   "cell_type": "code",
   "execution_count": 0,
   "metadata": {
    "application/vnd.databricks.v1+cell": {
     "cellMetadata": {
      "byteLimit": 2048000,
      "rowLimit": 10000
     },
     "inputWidgets": {},
     "nuid": "96407a89-ebea-4fbf-aad3-4adbea0c8332",
     "showTitle": false,
     "tableResultSettingsMap": {},
     "title": ""
    }
   },
   "outputs": [],
   "source": [
    "import os\n",
    "\n",
    "path = \"/Workspace/Repos/Amulya/Assignment4-cmart-Databriks-/dataSet\"\n",
    "\n",
    "#list all files in directory\n",
    "all_files = os.listdir(path)\n",
    "\n",
    "#filtering only csv files\n",
    "csv_files = []\n",
    "for file_name in all_files:\n",
    "    if file_name.endswith(\".csv\"):\n",
    "        csv_files.append(file_name)\n",
    "\n",
    "print(\"CSV files found:\")\n",
    "for file in csv_files:\n",
    "    print(file)\n"
   ]
  },
  {
   "cell_type": "code",
   "execution_count": 0,
   "metadata": {
    "application/vnd.databricks.v1+cell": {
     "cellMetadata": {},
     "inputWidgets": {},
     "nuid": "7ba58873-1012-44b0-b702-dc72ca86ed14",
     "showTitle": false,
     "tableResultSettingsMap": {},
     "title": ""
    }
   },
   "outputs": [],
   "source": []
  }
 ],
 "metadata": {
  "application/vnd.databricks.v1+notebook": {
   "computePreferences": null,
   "dashboards": [],
   "environmentMetadata": {
    "base_environment": "",
    "environment_version": "4"
   },
   "inputWidgetPreferences": null,
   "language": "python",
   "notebookMetadata": {
    "pythonIndentUnit": 4
   },
   "notebookName": "filtering csv files",
   "widgets": {}
  },
  "language_info": {
   "name": "python"
  }
 },
 "nbformat": 4,
 "nbformat_minor": 0
}
